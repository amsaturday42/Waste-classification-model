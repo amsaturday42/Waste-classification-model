{
 "cells": [
  {
   "cell_type": "markdown",
   "metadata": {},
   "source": [
    "<p style=\"text-align:center\">\n",
    "    <a href=\"https://skills.network\" target=\"_blank\">\n",
    "    <img src=\"https://cf-courses-data.s3.us.cloud-object-storage.appdomain.cloud/assets/logos/SN_web_lightmode.png\" width=\"200\" alt=\"Skills Network Logo\"  />\n",
    "    </a>\n",
    "</p>\n"
   ]
  },
  {
   "cell_type": "markdown",
   "metadata": {},
   "source": [
    "# <a id='toc1_'></a>[**Final Project: Classify Waste Products Using Transfer Learning**](#toc0_)\n"
   ]
  },
  {
   "cell_type": "markdown",
   "metadata": {},
   "source": [
    "**Estimated Time Needed**: 60 minutes.\n",
    "\n",
    "**Table of contents**<a id='toc0_'></a>    \n",
    "- [**Classify Waste Products Using Transfer Learning**](#toc1_)    \n",
    "  - [Introduction](#toc1_1_)    \n",
    "    - [Project Overview](#toc1_1_1_)    \n",
    "    - [Aim of the Project](#toc1_1_2_)    \n",
    "  - [Objectives](#toc1_2_)    \n",
    "    - [Tasks List](#toc1_2_1_)    \n",
    "    - [Sample Task: Sample screenshot showing code and output](#toc1_2_2_)    \n",
    "  - [Setup](#toc1_3_)    \n",
    "    - [Installing Required Libraries](#toc1_3_1_)    \n",
    "    - [Importing Required Libraries](#toc1_3_2_)    \n",
    "  - [Task 1: Print the version of tensorflow](#toc1_4_)    \n",
    "    - [Background](#toc1_5_)    \n",
    "    - [Create a model for distinguishing recyclable and organic waste images](#toc1_6_)    \n",
    "    - [Dataset](#toc1_6_1_)    \n",
    "    - [Importing Data](#toc1_6_2_)    \n",
    "    - [Define configuration options](#toc1_6_3_)    \n",
    "    - [Loading Images using ImageGeneratorClass](#toc1_6_4_)    \n",
    "      - [ImageDataGenerators](#toc1_6_4_1_)    \n",
    "  - [Task 2: Create a `test_generator` using the `test_datagen` object](#toc1_7_)    \n",
    "  - [Task 3: Print the length of the `train_generator`](#toc1_8_)    \n",
    "    - [Pre-trained Models](#toc1_8_1_)    \n",
    "      - [VGG-16](#toc1_8_1_1_)    \n",
    "  - [Task 4: Print the summary of the model](#toc1_9_)    \n",
    "  - [Task 5: Compile the model](#toc1_10_)    \n",
    "    - [Fit and train the model](#toc1_11_)    \n",
    "    - [Plot loss curves for training and validation sets (extract_feat_model)](#toc1_11_1_)    \n",
    "  - [Task 6: Plot accuracy curves for training and validation sets (extract_feat_model)](#toc1_11_2_)    \n",
    "    - [Fine-Tuning model](#toc1_12_)    \n",
    "  - [Task 7: Plot loss curves for training and validation sets (fine tune model)](#toc1_12_1_)    \n",
    "  - [Task 8: Plot accuracy curves for training and validation sets  (fine tune model)](#toc1_12_2_)    \n",
    "    - [Evaluate both models on test data](#toc1_13_)    \n",
    "  - [Task 9: Plot a test image using Extract Features Model (index_to_plot = 1)](#toc1_13_1_)    \n",
    "  - [Task 10: Plot a test image using Fine-Tuned Model (index_to_plot = 1)](#toc1_13_2_)    \n",
    "  - [Authors](#toc1_14_)    \n",
    "      \n",
    "\n",
    "## <a id='toc1_1_'></a>[Introduction](#toc0_)\n",
    "In this project, you will classify waste products using transfer learning. \n",
    "\n",
    "### <a id='toc1_1_1_'></a>[Project Overview](#toc0_)\n",
    "\n",
    "EcoClean currently lacks an efficient and scalable method to automate the waste sorting process. The manual sorting of waste is not only labor-intensive but also prone to errors, leading to contamination of recyclable materials. The goal of this project is to leverage machine learning and computer vision to automate the classification of waste products, improving efficiency and reducing contamination rates. The project will use transfer learning with a pre-trained VGG16 model to classify images.\n",
    "\n",
    "### <a id='toc1_1_2_'></a>[Aim of the Project](#toc0_)\n",
    "\n",
    "The aim of the project is to develop an automated waste classification model that can accurately differentiate between recyclable and organic waste based on images. By the end of this project, you will have trained, fine-tuned, and evaluated a model using transfer learning, which can then be applied to real-world waste management processes.\n",
    "\n",
    "**Final Output**: A trained model that classifies waste images into recyclable and organic categories.\n",
    "\n"
   ]
  },
  {
   "cell_type": "markdown",
   "metadata": {},
   "source": [
    "## <a id='toc1_2_'></a>[Learning Objectives](#toc0_)\n",
    "\n",
    "After you complete the project, you will be able to:\n",
    "\n",
    "- Apply transfer learning using the VGG16 model for image classification.\n",
    "- Prepare and preprocess image data for a machine learning task.\n",
    "- Fine-tune a pre-trained model to improve classification accuracy.\n",
    "- Evaluate the model’s performance using appropriate metrics.\n",
    "- Visualize model predictions on test data.\n",
    "\n",
    "By completing these objectives, you will be able to apply the techniques in real-world scenarios, such as automating waste sorting for municipal or industrial use.\n",
    "\n",
    "### <a id='toc1_2_1_'></a>[Tasks List](#toc0_)\n",
    "To achieve the above objectives, you will complete the following tasks:\n",
    "\n",
    "- Task 1: Print the version of tensorflow\n",
    "- Task 2: Create a `test_generator` using the `test_datagen` object\n",
    "- Task 3: Print the length of the `train_generator`\n",
    "- Task 4: Print the summary of the model\n",
    "- Task 5: Compile the model\n",
    "- Task 6: Plot accuracy curves for training and validation sets (extract_feat_model)\n",
    "- Task 7: Plot loss curves for training and validation sets (fine tune model)\n",
    "- Task 8: Plot accuracy curves for training and validation sets  (fine tune model)\n",
    "- Task 9: Plot a test image using Extract Features Model (index_to_plot = 1)\n",
    "- Task 10: Plot a test image using Fine-Tuned Model (index_to_plot = 1)\n",
    "\n",
    "**Note**: For each task, take a screenshot of the code and the output and upload it in a folder with your name. \n",
    "\n",
    "### <a id='toc1_2_2_'></a>[**Sample Task: Sample screenshot showing the code and output**](#toc0_)\n",
    "\n",
    "![sample screenshot.jpg](https://cf-courses-data.s3.us.cloud-object-storage.appdomain.cloud/_WUogwC7EIGnJQUBS13ONA/sample%20screenshot.jpg)\n",
    "\n",
    "\n"
   ]
  },
  {
   "cell_type": "markdown",
   "metadata": {},
   "source": [
    "## <a id='toc1_3_'></a>[Setup](#toc0_)\n",
    "\n",
    "For this lab, you will be using the following libraries:\n",
    "\n",
    "*   [`numpy`](https://numpy.org/?utm_medium=Exinfluencer&utm_source=Exinfluencer&utm_content=000026UJ&utm_term=10006555&utm_id=NA-SkillsNetwork-Channel-SkillsNetworkCoursesIBMML0187ENSkillsNetwork31430127-2021-01-01) for mathematical operations.\n",
    "*   [`sklearn`](https://scikit-learn.org/stable/?utm_medium=Exinfluencer&utm_source=Exinfluencer&utm_content=000026UJ&utm_term=10006555&utm_id=NA-SkillsNetwork-Channel-SkillsNetworkCoursesIBMML0187ENSkillsNetwork31430127-2021-01-01) for machine learning and machine-learning-pipeline related functions.\n",
    "*   [`matplotlib`](https://matplotlib.org/?utm_medium=Exinfluencer&utm_source=Exinfluencer&utm_content=000026UJ&utm_term=10006555&utm_id=NA-SkillsNetwork-Channel-SkillsNetworkCoursesIBMML0187ENSkillsNetwork31430127-2021-01-01) for additional plotting tools.\n",
    "*   [`tensorflow`](https://www.tensorflow.org/?utm_medium=Exinfluencer&utm_source=Exinfluencer&utm_content=000026UJ&utm_term=10006555&utm_id=NA-SkillsNetwork-Channel-SkillsNetworkCoursesIBMML0187ENSkillsNetwork31430127-2021-01-01) for machine learning and neural network related functions.\n",
    "\n",
    "\n",
    "### <a id='toc1_3_1_'></a>[Installing Required Libraries](#toc0_)\n"
   ]
  },
  {
   "cell_type": "code",
   "execution_count": null,
   "metadata": {},
   "outputs": [],
   "source": [
    "!pip install tensorflow==2.17.0 | tail -n 1\n",
    "!pip install numpy==1.24.3 | tail -n 1\n",
    "!pip install scikit-learn==1.5.1  | tail -n 1\n",
    "!pip install matplotlib==3.9.2  | tail -n 1"
   ]
  },
  {
   "cell_type": "markdown",
   "metadata": {},
   "source": [
    "### <a id='toc1_3_2_'></a>[Importing Required Libraries](#toc0_)\n"
   ]
  },
  {
   "cell_type": "code",
   "execution_count": null,
   "metadata": {},
   "outputs": [],
   "source": [
    "import numpy as np\n",
    "import os\n",
    "# import random, shutil\n",
    "import glob\n",
    "\n",
    "\n",
    "from matplotlib import pyplot as plt\n",
    "from matplotlib import pyplot\n",
    "from matplotlib.image import imread\n",
    "\n",
    "# from os import makedirs,listdir\n",
    "# from shutil import copyfile\n",
    "# from random import seed\n",
    "# from random import random\n",
    "\n",
    "os.environ['TF_CPP_MIN_LOG_LEVEL'] = '3'\n",
    "\n",
    "import tensorflow as tf\n",
    "from tensorflow.keras.models import Sequential\n",
    "from tensorflow.keras import optimizers\n",
    "from tensorflow.keras.callbacks import EarlyStopping, ModelCheckpoint\n",
    "# from tensorflow.keras.layers import Conv2D, MaxPooling2D,GlobalAveragePooling2D, Input\n",
    "from tensorflow.keras.layers import Dense, Dropout, Flatten\n",
    "from tensorflow.keras.models import Sequential, Model\n",
    "from tensorflow.keras.preprocessing.image import ImageDataGenerator\n",
    "# from tensorflow.keras.applications import InceptionV3\n",
    "from sklearn import metrics\n",
    "\n",
    "import warnings\n",
    "warnings.filterwarnings('ignore')\n"
   ]
  },
  {
   "cell_type": "markdown",
   "metadata": {},
   "source": [
    "## <a id='toc1_4_'></a>[**Task 1: Print the version of tensorflow**](#toc0_)\n",
    "\n",
    "Upload the screenshot of the version of tensorflow named tensorflow_version.png.\n",
    "\n",
    "Hint: Use `tf.__version__` to print the version of tensorflow.\n"
   ]
  },
  {
   "cell_type": "code",
   "execution_count": null,
   "metadata": {},
   "outputs": [],
   "source": [
    "# Task 1\n"
   ]
  },
  {
   "cell_type": "markdown",
   "metadata": {},
   "source": [
    "## <a id='toc1_5_'></a>[Background](#toc0_)\n",
    "\n",
    "\n",
    "**Transfer learning** uses the concept of keeping the early layers of a pre-trained network, and re-training the later layers on a specific dataset. You can leverage some state of that network on a related task.\n",
    "\n",
    "A typical transfer learning workflow in Keras looks something like this:\n",
    "\n",
    "1.  Initialize base model, and load pre-trained weights (e.g. ImageNet)\n",
    "2.  \"Freeze\" layers in the base model by setting `training = False`\n",
    "3.  Define a new model that goes on top of the output of the base model's layers.\n",
    "4.  Train resulting model on your data set.\n",
    "\n",
    "## <a id='toc1_6_'></a>[Create a model for distinguishing recyclable and organic waste images](#toc0_)\n",
    "\n",
    "### <a id='toc1_6_1_'></a>[Dataset](#toc0_)\n",
    "\n",
    "You will be using the [Waste Classification Dataset](https://www.kaggle.com/datasets/techsash/waste-classification-data?utm_medium=Exinfluencer&utm_source=Exinfluencer&utm_content=000026UJ&utm_term=10006555&utm_id=NA-SkillsNetwork-Channel-SkillsNetworkCoursesIBMDeveloperSkillsNetworkML311Coursera35714171-2022-01-01).\n",
    "\n",
    "Your goal is to train an algorithm on these images and to predict the labels for images in your test set (1 = recyclable, 0 = organic).\n",
    "\n",
    "### <a id='toc1_6_2_'></a>[Importing Data](#toc0_)\n",
    "\n",
    "This will create a `o-vs-r-split` directory in your environment.\n"
   ]
  },
  {
   "cell_type": "code",
   "execution_count": null,
   "metadata": {},
   "outputs": [],
   "source": [
    "import requests\n",
    "import zipfile\n",
    "from tqdm import tqdm\n",
    "\n",
    "url = \"https://cf-courses-data.s3.us.cloud-object-storage.appdomain.cloud/kd6057VPpABQ2FqCbgu9YQ/o-vs-r-split-reduced-1200.zip\"\n",
    "file_name = \"o-vs-r-split-reduced-1200.zip\"\n",
    "\n",
    "print(\"Downloading file\")\n",
    "with requests.get(url, stream=True) as response:\n",
    "    response.raise_for_status()\n",
    "    with open(file_name, 'wb') as f:\n",
    "        for chunk in response.iter_content(chunk_size=8192):\n",
    "            f.write(chunk)\n",
    "\n",
    "\n",
    "def extract_file_with_progress(file_name):\n",
    "    print(\"Extracting file with progress\")\n",
    "    with zipfile.ZipFile(file_name, 'r') as zip_ref:\n",
    "        members = zip_ref.infolist() \n",
    "        with tqdm(total=len(members), unit='file') as progress_bar:\n",
    "            for member in members:\n",
    "                zip_ref.extract(member)\n",
    "                progress_bar.update(1)\n",
    "    print(\"Finished extracting file\")\n",
    "\n",
    "\n",
    "extract_file_with_progress(file_name)\n",
    "\n",
    "print(\"Finished extracting file\")\n",
    "os.remove(file_name)"
   ]
  },
  {
   "cell_type": "markdown",
   "metadata": {},
   "source": [
    "### <a id='toc1_6_3_'></a>[Define configuration options](#toc0_)\n",
    "\n",
    "It's time to define some model configuration options.\n",
    "\n",
    "*   **batch size** is set to 32.\n",
    "*   The **number of classes** is 2.\n",
    "*   You will use 20% of the data for **validation** purposes.\n",
    "*   You have two **labels** in your dataset: organic (O), recyclable (R).\n"
   ]
  },
  {
   "cell_type": "code",
   "execution_count": null,
   "metadata": {},
   "outputs": [],
   "source": [
    "img_rows, img_cols = 150, 150\n",
    "batch_size = 32\n",
    "n_epochs = 10\n",
    "n_classes = 2\n",
    "val_split = 0.2\n",
    "verbosity = 1\n",
    "path = 'o-vs-r-split/train/'\n",
    "path_test = 'o-vs-r-split/test/'\n",
    "input_shape = (img_rows, img_cols, 3)\n",
    "labels = ['O', 'R']\n",
    "seed = 42"
   ]
  },
  {
   "cell_type": "markdown",
   "metadata": {},
   "source": [
    "### <a id='toc1_6_4_'></a>[Loading Images using ImageGeneratorClass](#toc0_)\n",
    "\n",
    "Transfer learning works best when models are trained on smaller datasets. \n",
    "\n",
    "The folder structure looks as follows:\n",
    "\n",
    "```python\n",
    "o-vs-r-split/\n",
    "└── train\n",
    "    ├── O\n",
    "    └── R\n",
    "└── test\n",
    "    ├── O\n",
    "    └── R\n",
    "```\n",
    "\n",
    "\n",
    "#### <a id='toc1_6_4_1_'></a>[ImageDataGenerators](#toc0_)\n",
    "\n",
    "\n",
    "Now you will create ImageDataGenerators used for training, validation and testing.\n",
    "\n",
    "Image data generators create batches of tensor image data with real-time data augmentation. The generators loop over the data in batches and are useful in feeding data to the training process. \n",
    "\n"
   ]
  },
  {
   "cell_type": "code",
   "execution_count": null,
   "metadata": {},
   "outputs": [],
   "source": [
    "# Create ImageDataGenerators for training and validation and testing\n",
    "train_datagen = ImageDataGenerator(\n",
    "    validation_split = val_split,\n",
    "    rescale=1.0/255.0,\n",
    "\twidth_shift_range=0.1, \n",
    "    height_shift_range=0.1, \n",
    "    horizontal_flip=True\n",
    ")\n",
    "\n",
    "val_datagen = ImageDataGenerator(\n",
    "    validation_split = val_split,\n",
    "    rescale=1.0/255.0,\n",
    ")\n",
    "\n",
    "test_datagen = ImageDataGenerator(\n",
    "    rescale=1.0/255.0\n",
    ")"
   ]
  },
  {
   "cell_type": "code",
   "execution_count": null,
   "metadata": {},
   "outputs": [],
   "source": [
    "train_generator = train_datagen.flow_from_directory(\n",
    "    directory = path,\n",
    "    seed = seed,\n",
    "    batch_size = batch_size, \n",
    "    class_mode='binary',\n",
    "    shuffle = True,\n",
    "    target_size=(img_rows, img_cols),\n",
    "    subset = 'training'\n",
    ")"
   ]
  },
  {
   "cell_type": "code",
   "execution_count": null,
   "metadata": {},
   "outputs": [],
   "source": [
    "val_generator = val_datagen.flow_from_directory(\n",
    "    directory = path,\n",
    "    seed = seed,\n",
    "    batch_size = batch_size, \n",
    "    class_mode='binary',\n",
    "    shuffle = True,\n",
    "    target_size=(img_rows, img_cols),\n",
    "    subset = 'validation'\n",
    ")"
   ]
  },
  {
   "cell_type": "markdown",
   "metadata": {},
   "source": [
    "## <a id='toc1_7_'></a>[**Task 2: Create a `test_generator` using the `test_datagen` object**](#toc0_)\n",
    "\n",
    "Upload the screenshot of the code and the output of the test generator as test_generator.png.\n",
    "\n",
    "Please use the following parameters:\n",
    "\n",
    "*   **directory** should be set to `path_test`.\n",
    "*   **class_mode** should be set to `'binary'`.\n",
    "*   **seed** should be set to `seed`.\n",
    "*   **batch_size** should be set to `batch_size`.\n",
    "*   **shuffle** should be set to `False`.\n",
    "*   **target_size** should be set to `(img_rows, img_cols)`.\n",
    "\n",
    "Hint: the format should be like:\n",
    "\n",
    "```python\n",
    "test_generator = test_datagen.flow_from_directory(\n",
    "    directory=,\n",
    "    class_mode=,\n",
    "    seed=,\n",
    "    batch_size=,\n",
    "    shuffle=,\n",
    "    target_size=\n",
    ")\n",
    "```\n"
   ]
  },
  {
   "cell_type": "code",
   "execution_count": null,
   "metadata": {},
   "outputs": [],
   "source": [
    "# Task 2: Create a `test_generator` using the `test_datagen` object\n"
   ]
  },
  {
   "cell_type": "markdown",
   "metadata": {},
   "source": [
    "## <a id='toc1_8_'></a>[**Task 3: Print the length of the `train_generator`**](#toc0_)\n",
    "\n",
    "Upload the screenshot of the code and the output of the length of the train generator as train_generator len.png.\n",
    "\n",
    "Hint: Use `len(train_generator)` to print the length of the `train_generator`.\n"
   ]
  },
  {
   "cell_type": "code",
   "execution_count": null,
   "metadata": {},
   "outputs": [],
   "source": [
    "# Task 3: print the length of the `train_generator`\n"
   ]
  },
  {
   "cell_type": "markdown",
   "metadata": {},
   "source": [
    "Let's look at a few augmented images:\n"
   ]
  },
  {
   "cell_type": "code",
   "execution_count": null,
   "metadata": {},
   "outputs": [],
   "source": [
    "from pathlib import Path\n",
    "\n",
    "IMG_DIM = (100, 100)\n",
    "\n",
    "train_files = glob.glob('./o-vs-r-split/train/O/*')\n",
    "train_files = train_files[:20]\n",
    "train_imgs = [tf.keras.preprocessing.image.img_to_array(tf.keras.preprocessing.image.load_img(img, target_size=IMG_DIM)) for img in train_files]\n",
    "train_imgs = np.array(train_imgs)\n",
    "train_labels = [Path(fn).parent.name for fn in train_files]\n",
    "\n",
    "img_id = 0\n",
    "O_generator = train_datagen.flow(train_imgs[img_id:img_id+1], train_labels[img_id:img_id+1],\n",
    "                                   batch_size=1)\n",
    "O = [next(O_generator) for i in range(0,5)]\n",
    "fig, ax = plt.subplots(1,5, figsize=(16, 6))\n",
    "print('Labels:', [item[1][0] for item in O])\n",
    "l = [ax[i].imshow(O[i][0][0]) for i in range(0,5)]\n"
   ]
  },
  {
   "cell_type": "markdown",
   "metadata": {},
   "source": [
    "### <a id='toc1_8_1_'></a>[Pre-trained Models](#toc0_)\n",
    "\n",
    "Pre-trained models are saved networks that have previously been trained on some large datasets. They are typically used for large-scale image-classification task. They can be used as they are or could be customized to a given task using transfer learning. These pre-trained models form the basis of transfer learning.\n",
    "\n",
    "#### <a id='toc1_8_1_1_'></a>[VGG-16](#toc0_)\n",
    "\n",
    "Let us load the VGG16 model.\n"
   ]
  },
  {
   "cell_type": "code",
   "execution_count": null,
   "metadata": {},
   "outputs": [],
   "source": [
    "from tensorflow.keras.applications import vgg16\n",
    "\n",
    "input_shape = (150, 150, 3)\n",
    "vgg = vgg16.VGG16(include_top=False,\n",
    "                        weights='imagenet',\n",
    "                        input_shape=input_shape)\n",
    "\n"
   ]
  },
  {
   "cell_type": "markdown",
   "metadata": {},
   "source": [
    "We flatten the output of a vgg model and assign it to the model `output`, we then use a Model object `basemodel` to group the layers into an object for training and inference .\n",
    "With the following inputs and outputs\n",
    "\n",
    "inputs: `vgg.input`\n",
    "\n",
    "outputs: `tf.keras.layers.Flatten()(output)`\n"
   ]
  },
  {
   "cell_type": "code",
   "execution_count": null,
   "metadata": {},
   "outputs": [],
   "source": [
    "output = vgg.layers[-1].output\n",
    "output = tf.keras.layers.Flatten()(output)\n",
    "basemodel = Model(vgg.input, output)"
   ]
  },
  {
   "cell_type": "markdown",
   "metadata": {},
   "source": [
    "Next, you freeze the basemodel.\n"
   ]
  },
  {
   "cell_type": "code",
   "execution_count": null,
   "metadata": {},
   "outputs": [],
   "source": [
    "for layer in basemodel.layers: \n",
    "    layer.trainable = False"
   ]
  },
  {
   "cell_type": "markdown",
   "metadata": {},
   "source": [
    "Create a new model on top. You add a Dropout layer for regularization, only these layers will change as for the lower layers you set `training=False` when calling the base model.\n"
   ]
  },
  {
   "cell_type": "code",
   "execution_count": null,
   "metadata": {},
   "outputs": [],
   "source": [
    "input_shape = basemodel.output_shape[1]\n",
    "\n",
    "model = Sequential()\n",
    "model.add(basemodel)\n",
    "model.add(Dense(512, activation='relu'))\n",
    "model.add(Dropout(0.3))\n",
    "model.add(Dense(512, activation='relu'))\n",
    "model.add(Dropout(0.3))\n",
    "model.add(Dense(1, activation='sigmoid'))"
   ]
  },
  {
   "cell_type": "markdown",
   "metadata": {},
   "source": [
    "## <a id='toc1_9_'></a>[**Task 4: Print the summary of the model**](#toc0_)\n",
    "\n",
    "Upload the screenshot of the code and output of the summary of the model model_summary.png.\n",
    "\n",
    "Hint: Use `model.summary()` to print the summary of the model.\n"
   ]
  },
  {
   "cell_type": "code",
   "execution_count": null,
   "metadata": {},
   "outputs": [],
   "source": [
    "# Task: print the summary of the model\n"
   ]
  },
  {
   "cell_type": "markdown",
   "metadata": {},
   "source": [
    "## <a id='toc1_10_'></a>[**Task 5: Compile the model**](#toc0_)\n",
    "\n",
    "Upload the screenshot of the code as model_compile.png.\n",
    "\n",
    "You will compile the model using the following parameters:\n",
    "\n",
    "*   **loss**: `'binary_crossentropy'`.\n",
    "*   **optimizer**: `optimizers.RMSprop(learning_rate=1e-4)`.\n",
    "*   **metrics**: `['accuracy']`.\n",
    "\n",
    "Hint: Use `model.compile()` to compile the model:\n",
    "    \n",
    "```python\n",
    "model.compile(\n",
    "    loss=,\n",
    "    optimizer=,\n",
    "    metrics=\n",
    ")\n",
    "```\n"
   ]
  },
  {
   "cell_type": "code",
   "execution_count": null,
   "metadata": {},
   "outputs": [],
   "source": [
    "for layer in basemodel.layers: \n",
    "    layer.trainable = False\n",
    "\n",
    "# Task 5: Compile the model\n"
   ]
  },
  {
   "cell_type": "markdown",
   "metadata": {},
   "source": [
    "You will use early stopping to avoid over-training the model.\n"
   ]
  },
  {
   "cell_type": "code",
   "execution_count": 6,
   "metadata": {},
   "outputs": [
    {
     "name": "stdout",
     "output_type": "stream",
     "text": [
      "0.0001\n",
      "0.0001\n",
      "0.0001\n",
      "0.0001\n",
      "0.0001\n",
      "9.048374180359596e-05\n",
      "8.187307530779819e-05\n",
      "7.408182206817179e-05\n",
      "6.703200460356394e-05\n",
      "6.065306597126335e-05\n"
     ]
    }
   ],
   "source": [
    "import numpy as np\n",
    "\n",
    "initial_lrate = 1e-4\n",
    "k = 0.1\n",
    "\n",
    "def exp_decay(epoch):\n",
    "    lrate = initial_lrate if epoch < 5 else initial_lrate * np.exp(-k*(epoch-4))\n",
    "    return lrate\n",
    "\n",
    "for i in range(10):\n",
    "    print(exp_decay(i))"
   ]
  },
  {
   "cell_type": "code",
   "execution_count": null,
   "metadata": {},
   "outputs": [],
   "source": [
    "from tensorflow.keras.callbacks import LearningRateScheduler\n",
    "\n",
    "\n",
    "checkpoint_path='O_R_tlearn_vgg16.keras'\n",
    "\n",
    "# define step decay function\n",
    "class LossHistory_(tf.keras.callbacks.Callback):\n",
    "    def on_train_begin(self, logs={}):\n",
    "        self.losses = []\n",
    "        self.lr = []\n",
    "        \n",
    "    def on_epoch_end(self, epoch, logs={}):\n",
    "        self.losses.append(logs.get('loss'))\n",
    "        self.lr.append(exp_decay(epoch))\n",
    "        print('lr:', exp_decay(len(self.losses)))\n",
    "\n",
    "def exp_decay(epoch):\n",
    "    initial_lrate = 1e-4\n",
    "    k = 0.1\n",
    "    lrate = initial_lrate * np.exp(-k*epoch)\n",
    "    return lrate\n",
    "\n",
    "# learning schedule callback\n",
    "loss_history_ = LossHistory_()\n",
    "lrate_ = LearningRateScheduler(exp_decay)\n",
    "\n",
    "keras_callbacks = [\n",
    "      EarlyStopping(monitor = 'val_loss', \n",
    "                    patience = 4, \n",
    "                    mode = 'min', \n",
    "                    min_delta=0.01),\n",
    "      ModelCheckpoint(checkpoint_path, monitor='val_loss', save_best_only=True, mode='min')\n",
    "]\n",
    "\n",
    "callbacks_list_ = [loss_history_, lrate_] + keras_callbacks"
   ]
  },
  {
   "cell_type": "markdown",
   "metadata": {},
   "source": [
    "## <a id='toc1_11_'></a>[Fit and train the model](#toc0_)\n"
   ]
  },
  {
   "cell_type": "code",
   "execution_count": null,
   "metadata": {},
   "outputs": [],
   "source": [
    "extract_feat_model = model.fit(train_generator, \n",
    "                               steps_per_epoch=5, \n",
    "                               epochs=10,\n",
    "                               callbacks = callbacks_list_,   \n",
    "                               validation_data=val_generator, \n",
    "                               validation_steps=val_generator.samples // batch_size, \n",
    "                               verbose=1)"
   ]
  },
  {
   "cell_type": "markdown",
   "metadata": {},
   "source": [
    "### <a id='toc1_11_1_'></a>[Plot loss curves for training and validation sets (extract_feat_model)](#toc0_)\n"
   ]
  },
  {
   "cell_type": "code",
   "execution_count": null,
   "metadata": {},
   "outputs": [],
   "source": [
    "import matplotlib.pyplot as plt\n",
    "\n",
    "history = extract_feat_model\n",
    "\n",
    "# plot loss curve\n",
    "plt.figure(figsize=(5, 5))\n",
    "plt.plot(history.history['loss'], label='Training Loss')\n",
    "plt.plot(history.history['val_loss'], label='Validation Loss')\n",
    "plt.title('Loss Curve')\n",
    "plt.xlabel('Epochs')\n",
    "plt.ylabel('Loss')\n",
    "plt.legend()\n",
    "\n",
    "plt.show()"
   ]
  },
  {
   "cell_type": "markdown",
   "metadata": {},
   "source": [
    "### <a id='toc1_11_2_'></a>[**Task 6: Plot accuracy curves for training and validation sets (extract_feat_model)**](#toc0_)\n",
    "\n",
    "Upload the screenshot of the code and the output of the plot accuracy curve as plot_accuracy_curve.png.\n",
    "\n",
    "Hint: Similar to the loss curves. Use `plt.plot()` to plot the accuracy curves for training and validation sets.\n",
    "\n",
    "- `figsize=(5, 5)`\n",
    "- `plt.plot(history.history['accuracy'], label='Training Accuracy')`\n",
    "- `plt.plot(history.history['val_accuracy'], label='Validation Accuracy')`\n",
    "- **Title**: `'Accuracy Curve'`\n",
    "- **xlabel**: `'Epochs'`\n",
    "- **ylabel**: `'Accuracy'`\n",
    "\n",
    "**NOTE**: As training is a stochastic process, the loss and accuracy graphs may differ across runs. As long as the general trend shows decreasing loss and increasing accuracy, the model is performing as expected and full marks will be awarded for the task.\n"
   ]
  },
  {
   "cell_type": "code",
   "execution_count": null,
   "metadata": {},
   "outputs": [],
   "source": [
    "import matplotlib.pyplot as plt\n",
    "\n",
    "history = extract_feat_model\n",
    "## Task 6: Plot accuracy curves for training and validation sets\n"
   ]
  },
  {
   "cell_type": "markdown",
   "metadata": {},
   "source": [
    "## <a id='toc1_12_'></a>[Fine-Tuning model](#toc0_)\n",
    "\n",
    "Fine-tuning is an optional step in transfer learning, it usually ends up improving the performance of the model. \n",
    "\n",
    "You will **unfreeze** one layer from the base model and train the model again.\n"
   ]
  },
  {
   "cell_type": "code",
   "execution_count": null,
   "metadata": {},
   "outputs": [],
   "source": [
    "from tensorflow.keras.applications import vgg16\n",
    "\n",
    "input_shape = (150, 150, 3)\n",
    "vgg = vgg16.VGG16(include_top=False,\n",
    "                        weights='imagenet',\n",
    "                        input_shape=input_shape)\n",
    "\n",
    "output = vgg.layers[-1].output\n",
    "output = tf.keras.layers.Flatten()(output)\n",
    "basemodel = Model(vgg.input, output)\n",
    "\n",
    "for layer in basemodel.layers: \n",
    "    layer.trainable = False\n",
    "\n",
    "display([layer.name for layer in basemodel.layers])\n",
    "\n",
    "set_trainable = False\n",
    "\n",
    "for layer in basemodel.layers:\n",
    "    if layer.name in ['block5_conv3']:\n",
    "        set_trainable = True\n",
    "    if set_trainable:\n",
    "        layer.trainable = True\n",
    "    else:\n",
    "        layer.trainable = False\n",
    "\n",
    "for layer in basemodel.layers:\n",
    "    print(f\"{layer.name}: {layer.trainable}\")"
   ]
  },
  {
   "cell_type": "markdown",
   "metadata": {},
   "source": [
    "Similar to what you did before, you will create a new model on top, and add a Dropout layer for regularization.\n"
   ]
  },
  {
   "cell_type": "code",
   "execution_count": null,
   "metadata": {},
   "outputs": [],
   "source": [
    "model = Sequential()\n",
    "model.add(basemodel)\n",
    "model.add(Dense(512, activation='relu'))\n",
    "model.add(Dropout(0.3))\n",
    "model.add(Dense(512, activation='relu'))\n",
    "model.add(Dropout(0.3))\n",
    "model.add(Dense(1, activation='sigmoid'))\n",
    "\n",
    "checkpoint_path='O_R_tlearn_fine_tune_vgg16.keras'\n",
    "\n",
    "# learning schedule callback\n",
    "loss_history_ = LossHistory_()\n",
    "lrate_ = LearningRateScheduler(exp_decay)\n",
    "\n",
    "keras_callbacks = [\n",
    "      EarlyStopping(monitor = 'val_loss', \n",
    "                    patience = 4, \n",
    "                    mode = 'min', \n",
    "                    min_delta=0.01),\n",
    "      ModelCheckpoint(checkpoint_path, monitor='val_loss', save_best_only=True, mode='min')\n",
    "]\n",
    "\n",
    "callbacks_list_ = [loss_history_, lrate_] + keras_callbacks\n",
    "\n",
    "model.compile(loss='binary_crossentropy',\n",
    "              optimizer=optimizers.RMSprop(learning_rate=1e-4),\n",
    "              metrics=['accuracy'])\n",
    "\n",
    "fine_tune_model = model.fit(train_generator, \n",
    "                    steps_per_epoch=5, \n",
    "                    epochs=10,\n",
    "                    callbacks = callbacks_list_,   \n",
    "                    validation_data=val_generator, \n",
    "                    validation_steps=val_generator.samples // batch_size, \n",
    "                    verbose=1)"
   ]
  },
  {
   "cell_type": "markdown",
   "metadata": {},
   "source": [
    "### <a id='toc1_12_1_'></a>[**Task 7: Plot loss curves for training and validation sets (fine tune model)**](#toc0_)\n",
    "\n",
    "Upload the screenshot of the code and the output of the plot loss curves as plot_loss_curve.png.\n",
    "\n",
    "Hint: Use `plt.plot()` to plot the loss curves for training and validation sets.\n",
    " - `history = fine_tune_model`\n",
    "- `figsize=(5, 5)`\n",
    "- `plt.plot(history.history['loss'], label='Training Loss')`\n",
    "- `plt.plot(history.history['val_loss'], label='Validation Loss')`\n",
    "- **Title**: `'Loss Curve'`\n",
    "- **xlabel**: `'Epochs'`\n",
    "- **ylabel**: `'Loss'`\n",
    "\n",
    "**NOTE**: As training is a stochastic process, the loss and accuracy graphs may differ across runs. As long as the general trend shows decreasing loss and increasing accuracy, the model is performing as expected and full marks will be awarded for the task.\n"
   ]
  },
  {
   "cell_type": "code",
   "execution_count": null,
   "metadata": {},
   "outputs": [],
   "source": [
    "history = fine_tune_model\n",
    "\n",
    "## Task 7: Plot loss curves for training and validation sets (fine tune model)\n"
   ]
  },
  {
   "cell_type": "markdown",
   "metadata": {},
   "source": [
    "### <a id='toc1_12_2_'></a>[**Task 8: Plot accuracy curves for training and validation sets  (fine tune model)**](#toc0_)\n",
    "\n",
    "Upload the screenshot of the code and the plot accuracy curve for the fine-tune model as plot_finetune_model.png.\n",
    "\n",
    "Hint: Similar to the loss curves. Use `plt.plot()` to plot the accuracy curves for training and validation sets.\n",
    "- `history = fine_tune_model`\n",
    "- `figsize=(5, 5)`\n",
    "- `plt.plot(history.history['accuracy'], label='Training Accuracy')`\n",
    "- `plt.plot(history.history['val_accuracy'], label='Validation Accuracy')`\n",
    "- **Title**: `'Accuracy Curve'`\n",
    "- **xlabel**: `'Epochs'`\n",
    "- **ylabel**: `'Accuracy'`\n",
    "\n",
    "**NOTE**: As training is a stochastic process, the loss and accuracy graphs may differ across runs. As long as the general trend shows decreasing loss and increasing accuracy, the model is performing as expected and full marks will be awarded for the task.\n"
   ]
  },
  {
   "cell_type": "code",
   "execution_count": null,
   "metadata": {},
   "outputs": [],
   "source": [
    "history = fine_tune_model\n",
    "\n",
    "# Task 8: Plot accuracy curves for training and validation sets  (fine tune model)\n"
   ]
  },
  {
   "cell_type": "markdown",
   "metadata": {},
   "source": [
    "## <a id='toc1_13_'></a>[Evaluate both models on test data](#toc0_)\n",
    "\n",
    "- Load saved models\n",
    "- Load test images\n",
    "- Make predictions for both models\n",
    "- Convert predictions to class labels\n",
    "- Print classification report for both models\n"
   ]
  },
  {
   "cell_type": "code",
   "execution_count": null,
   "metadata": {},
   "outputs": [],
   "source": [
    "from pathlib import Path\n",
    "\n",
    "# Load saved models\n",
    "extract_feat_model = tf.keras.models.load_model('O_R_tlearn_vgg16.keras')\n",
    "fine_tune_model = tf.keras.models.load_model('O_R_tlearn_fine_tune_vgg16.keras')\n",
    "\n",
    "IMG_DIM = (150, 150)\n",
    "\n",
    "# Load test images\n",
    "test_files_O = glob.glob('./o-vs-r-split/test/O/*')\n",
    "test_files_R = glob.glob('./o-vs-r-split/test/R/*')\n",
    "test_files = test_files_O[:50] + test_files_R[:50]\n",
    "\n",
    "test_imgs = [tf.keras.preprocessing.image.img_to_array(tf.keras.preprocessing.image.load_img(img, target_size=IMG_DIM)) for img in test_files]\n",
    "test_imgs = np.array(test_imgs)\n",
    "test_labels = [Path(fn).parent.name for fn in test_files]\n",
    "\n",
    "# Standardize\n",
    "test_imgs_scaled = test_imgs.astype('float32')\n",
    "test_imgs_scaled /= 255\n",
    "\n",
    "class2num_lt = lambda l: [0 if x == 'O' else 1 for x in l]\n",
    "num2class_lt = lambda l: ['O' if x < 0.5 else 'R' for x in l]\n",
    "\n",
    "test_labels_enc = class2num_lt(test_labels)\n",
    "\n",
    "# Make predictions for both models\n",
    "predictions_extract_feat_model = extract_feat_model.predict(test_imgs_scaled, verbose=0)\n",
    "predictions_fine_tune_model = fine_tune_model.predict(test_imgs_scaled, verbose=0)\n",
    "\n",
    "# Convert predictions to class labels\n",
    "predictions_extract_feat_model = num2class_lt(predictions_extract_feat_model)\n",
    "predictions_fine_tune_model = num2class_lt(predictions_fine_tune_model)\n",
    "\n",
    "# Print classification report for both models\n",
    "print('Extract Features Model')\n",
    "print(metrics.classification_report(test_labels, predictions_extract_feat_model))\n",
    "print('Fine-Tuned Model')\n",
    "print(metrics.classification_report(test_labels, predictions_fine_tune_model))\n"
   ]
  },
  {
   "cell_type": "code",
   "execution_count": null,
   "metadata": {},
   "outputs": [],
   "source": [
    "# Plot one of the images with actual label and predicted label as title\n",
    "def plot_image_with_title(image, model_name, actual_label, predicted_label):\n",
    "    plt.imshow(image)\n",
    "    plt.title(f\"Model: {model_name}, Actual: {actual_label}, Predicted: {predicted_label}\")\n",
    "    plt.axis('off')\n",
    "    plt.show()\n",
    "\n",
    "# Specify index of image to plot, for example index 0\n",
    "index_to_plot = 0\n",
    "plot_image_with_title(\n",
    "    image=test_imgs[index_to_plot].astype('uint8'),\n",
    "    model_name='Extract Features Model',\n",
    "    actual_label=test_labels[index_to_plot], \n",
    "    predicted_label=predictions_extract_feat_model[index_to_plot],\n",
    "    )"
   ]
  },
  {
   "cell_type": "markdown",
   "metadata": {},
   "source": [
    "### <a id='toc1_13_1_'></a>[**Task 9: Plot a test image using Extract Features Model (index_to_plot = 1)**](#toc0_)\n",
    "\n",
    "Upload the screenshot of the code and the extract features model as extract_features_model.png.\n",
    "\n",
    "Instructions:\n",
    "\n",
    "- Use `plot_image_with_title` function.\n",
    "- `index_to_plot = 1`\n",
    "- `model_name='Extract Features Model'`\n",
    "- `predicted_label=predictions_extract_feat_model[index_to_plot]`\n",
    "\n",
    "Hint: Follow the same format as previous plots.\n",
    "\n",
    "**NOTE**: Due to the inherent nature of neural networks, predictions may vary from the actual labels. For instance, if the actual label is ‘O’, the prediction could be either ‘O’ or ‘R’, both of which are possible outcomes, and full marks will be awarded for the task. \n"
   ]
  },
  {
   "cell_type": "code",
   "execution_count": null,
   "metadata": {},
   "outputs": [],
   "source": [
    "# Task 9: Plot a test image using Extract Features Model (index_to_plot = 1)\n"
   ]
  },
  {
   "cell_type": "markdown",
   "metadata": {},
   "source": [
    "### <a id='toc1_13_2_'></a>[**Task 10: Plot a test image using Fine-Tuned Model (index_to_plot = 1)**](#toc0_)\n",
    "\n",
    "Upload the screenshot of the code and the fine-tuned model as finetuned_model.png.\n",
    "\n",
    "Instructions:\n",
    "\n",
    "- Use `plot_image_with_title` function.\n",
    "- `index_to_plot = 1`\n",
    "- `model_name='Fine-Tuned Model'`\n",
    "- `predicted_label=predictions_fine_tune_model[index_to_plot]`\n",
    "\n",
    "Hint: follow the same format as previous plots.\n",
    "\n",
    "**NOTE**: Due to the inherent nature of neural networks, predictions may vary from the actual labels. For instance, if the actual label is ‘O’, the prediction could be either ‘O’ or ‘R’, both of which are possible outcomes, and full marks will be awarded for the task. \n"
   ]
  },
  {
   "cell_type": "code",
   "execution_count": null,
   "metadata": {},
   "outputs": [],
   "source": [
    "# Task 10: Plot a test image using Fine-Tuned Model (index_to_plot = 1)\n"
   ]
  },
  {
   "cell_type": "markdown",
   "metadata": {},
   "source": [
    "## <a id='toc1_14_'></a>[Author](#toc0_)\n",
    "\n",
    "Copyright © IBM Corporation. All rights reserved.\n"
   ]
  }
 ],
 "metadata": {
  "kernelspec": {
   "display_name": "Python 3 (ipykernel)",
   "language": "python",
   "name": "python3"
  },
  "language_info": {
   "codemirror_mode": {
    "name": "ipython",
    "version": 3
   },
   "file_extension": ".py",
   "mimetype": "text/x-python",
   "name": "python",
   "nbconvert_exporter": "python",
   "pygments_lexer": "ipython3",
   "version": "3.10.7"
  },
  "prev_pub_hash": "038c54861a7c5dfdb13e9e6f81682495bddcc39597a6cda2cdc039133752152f"
 },
 "nbformat": 4,
 "nbformat_minor": 4
}
